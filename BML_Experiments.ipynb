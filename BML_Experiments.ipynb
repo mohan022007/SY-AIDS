{
  "nbformat": 4,
  "nbformat_minor": 0,
  "metadata": {
    "colab": {
      "provenance": [],
      "collapsed_sections": [
        "5y_FGiw1x2wc",
        "4dDMI4jnyPMk",
        "htN6swVHd33t"
      ]
    },
    "kernelspec": {
      "name": "python3",
      "display_name": "Python 3"
    },
    "language_info": {
      "name": "python"
    }
  },
  "cells": [
    {
      "cell_type": "markdown",
      "source": [
        "# **Basics Of Machine Learning**\n",
        "\n",
        "---\n",
        "\n"
      ],
      "metadata": {
        "id": "g18MIo7-LFpW"
      }
    },
    {
      "cell_type": "markdown",
      "source": [
        "# Expt 1 & 2 : Extract the data from dataset/database using python"
      ],
      "metadata": {
        "id": "5y_FGiw1x2wc"
      }
    },
    {
      "cell_type": "markdown",
      "source": [
        "## IMPORT DATA"
      ],
      "metadata": {
        "id": "VifhpGEdJAV-"
      }
    },
    {
      "cell_type": "code",
      "execution_count": null,
      "metadata": {
        "id": "CRxz5yalI6xf"
      },
      "outputs": [],
      "source": [
        "import pandas as pd\n",
        "import numpy as np\n",
        "\n",
        "#columns=['Sepal_length','Sepal_width','Petal_length','Petal_width','Species']\n",
        "red=pd.read_csv('/content/winequality-red.csv', delimiter=';')\n",
        "white=pd.read_csv('/content/winequality-white.csv', delimiter=';')\n",
        "red['type']='red'\n",
        "white['type']='white'\n",
        "mw=pd.concat([red,white],axis=0,ignore_index=True)"
      ]
    },
    {
      "cell_type": "code",
      "source": [
        "mw.head()"
      ],
      "metadata": {
        "id": "xBrF0Q6kLjxF"
      },
      "execution_count": null,
      "outputs": []
    },
    {
      "cell_type": "code",
      "source": [
        "mw.describe()"
      ],
      "metadata": {
        "id": "2grgDaJfLjgW"
      },
      "execution_count": null,
      "outputs": []
    },
    {
      "cell_type": "code",
      "source": [
        "mw.info()"
      ],
      "metadata": {
        "id": "01XrVbvrLtCG"
      },
      "execution_count": null,
      "outputs": []
    },
    {
      "cell_type": "code",
      "source": [
        "mw.size"
      ],
      "metadata": {
        "id": "rDu3EDc8Ls9l"
      },
      "execution_count": null,
      "outputs": []
    },
    {
      "cell_type": "code",
      "source": [
        "mw.shape"
      ],
      "metadata": {
        "id": "Ac697Yj3Lyfu"
      },
      "execution_count": null,
      "outputs": []
    },
    {
      "cell_type": "markdown",
      "source": [
        "## Preprocessing the Data"
      ],
      "metadata": {
        "id": "89GrzimuMUGn"
      }
    },
    {
      "cell_type": "code",
      "source": [
        "mw.isnull().sum()"
      ],
      "metadata": {
        "id": "d1Yr1flHMbUX"
      },
      "execution_count": null,
      "outputs": []
    },
    {
      "cell_type": "code",
      "source": [
        "mw.isna().sum()"
      ],
      "metadata": {
        "id": "byX63n50MkDd"
      },
      "execution_count": null,
      "outputs": []
    },
    {
      "cell_type": "code",
      "source": [
        "mw.notnull().sum()"
      ],
      "metadata": {
        "id": "ivVNPW1SMpvN"
      },
      "execution_count": null,
      "outputs": []
    },
    {
      "cell_type": "code",
      "source": [
        "mw.duplicated().sum()"
      ],
      "metadata": {
        "id": "Pq_T9uwuMwB2"
      },
      "execution_count": null,
      "outputs": []
    },
    {
      "cell_type": "code",
      "source": [
        "mw.drop_duplicates(inplace=True)\n",
        "mw"
      ],
      "metadata": {
        "id": "L9mc24zAM1L1"
      },
      "execution_count": null,
      "outputs": []
    },
    {
      "cell_type": "markdown",
      "source": [
        "## Encoding The Target Column"
      ],
      "metadata": {
        "id": "XC2gqFSFNcKe"
      }
    },
    {
      "cell_type": "code",
      "source": [
        "from sklearn.preprocessing import LabelEncoder\n",
        "le = LabelEncoder()\n",
        "\n",
        "mw['type']=le.fit_transform(mw['type'])\n",
        "\n",
        "mw"
      ],
      "metadata": {
        "id": "tz8lW8aeNvOI"
      },
      "execution_count": null,
      "outputs": []
    },
    {
      "cell_type": "markdown",
      "source": [
        "## Training"
      ],
      "metadata": {
        "id": "0YFfUtdlVg0V"
      }
    },
    {
      "cell_type": "code",
      "source": [
        "x = mw[['fixed acidity','volatile acidity','citric acid','residual sugar','chlorides','free sulfur dioxide','total sulfur dioxide','density','pH','sulphates','alcohol','quality']]\n",
        "y = mw['type']\n",
        "\n",
        "from sklearn.model_selection import train_test_split\n",
        "\n",
        "x_train, x_test, y_train, y_test = train_test_split(x, y, test_size=0.2,random_state=42)\n",
        "\n",
        "x_train"
      ],
      "metadata": {
        "id": "0spdwhDRVklM"
      },
      "execution_count": null,
      "outputs": []
    },
    {
      "cell_type": "markdown",
      "source": [
        "# Expt 3 : Logistic Regression & Linear Regression"
      ],
      "metadata": {
        "id": "4dDMI4jnyPMk"
      }
    },
    {
      "cell_type": "markdown",
      "source": [
        "## Logistic Regression"
      ],
      "metadata": {
        "id": "p8MJ9TMoacB2"
      }
    },
    {
      "cell_type": "code",
      "source": [
        "from sklearn.metrics import accuracy_score\n",
        "from sklearn.linear_model import LogisticRegression\n",
        "\n",
        "log_reg = LogisticRegression()\n",
        "log_reg.fit(x_train, y_train)\n",
        "log_reg.score(x_test,y_test)"
      ],
      "metadata": {
        "id": "4jd9zn8Eagbf"
      },
      "execution_count": null,
      "outputs": []
    },
    {
      "cell_type": "markdown",
      "source": [
        "## Linear Regression"
      ],
      "metadata": {
        "id": "4KM34UgVWV-n"
      }
    },
    {
      "cell_type": "code",
      "source": [
        "from sklearn.linear_model import LinearRegression\n",
        "\n",
        "lin_reg = LinearRegression()\n",
        "lin_reg.fit(x_train, y_train)\n",
        "lin_reg.score(x_test,y_test)"
      ],
      "metadata": {
        "id": "arGGdeFPWaGO"
      },
      "execution_count": null,
      "outputs": []
    },
    {
      "cell_type": "markdown",
      "source": [
        "# Expt 4 : Naive Bayes"
      ],
      "metadata": {
        "id": "KYL2YJnCyqX0"
      }
    },
    {
      "cell_type": "markdown",
      "source": [
        "## Naive Bayes"
      ],
      "metadata": {
        "id": "htN6swVHd33t"
      }
    },
    {
      "cell_type": "code",
      "source": [
        "from sklearn.naive_bayes import GaussianNB\n",
        "\n",
        "nb = GaussianNB()\n",
        "nb.fit(x_train, y_train)\n",
        "nb.score(x_test,y_test)"
      ],
      "metadata": {
        "id": "joktGAY3pzNZ",
        "colab": {
          "base_uri": "https://localhost:8080/"
        },
        "outputId": "5d6fc553-57b2-4ece-8c36-2de81dc61e3b"
      },
      "execution_count": null,
      "outputs": [
        {
          "output_type": "execute_result",
          "data": {
            "text/plain": [
              "0.9671052631578947"
            ]
          },
          "metadata": {},
          "execution_count": 40
        }
      ]
    },
    {
      "cell_type": "markdown",
      "source": [
        "# Expt 7 : K-Nearest Neighbour"
      ],
      "metadata": {
        "id": "0-bQViQpzRSU"
      }
    },
    {
      "cell_type": "code",
      "source": [
        "from sklearn.neighbors import KNeighborsClassifier\n",
        "from sklearn.metrics import accuracy_score"
      ],
      "metadata": {
        "id": "cxQYDxqE3R4-"
      },
      "execution_count": null,
      "outputs": []
    },
    {
      "cell_type": "code",
      "source": [
        "knn = KNeighborsClassifier(n_neighbors=3)\n",
        "knn.fit(x_train, y_train)\n",
        "y_pred = knn.predict(x_test)\n",
        "accuracy = accuracy_score(y_test, y_pred)\n",
        "print(f\"Accuracy: {accuracy * 100:.3f}%\")"
      ],
      "metadata": {
        "id": "plBRgGYE0z6c"
      },
      "execution_count": null,
      "outputs": []
    },
    {
      "cell_type": "markdown",
      "source": [
        "# Expt 8 : K-Means Clustring"
      ],
      "metadata": {
        "id": "QMvpgDF1IN25"
      }
    },
    {
      "cell_type": "code",
      "source": [],
      "metadata": {
        "id": "UTYT2eu1IWPm"
      },
      "execution_count": null,
      "outputs": []
    }
  ]
}